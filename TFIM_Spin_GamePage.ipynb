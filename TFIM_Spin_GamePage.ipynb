{
 "cells": [
  {
   "cell_type": "code",
   "execution_count": 1,
   "metadata": {},
   "outputs": [],
   "source": [
    "import ipywidgets as widgets\n",
    "from ipywidgets import Image, interact, interactive, fixed, interact_manual, interactive_output, IntProgress\n",
    "from ipywidgets import Button, Box, BoundedFloatText, Text, Textarea, Dropdown, Label, IntSlider, SelectMultiple, Accordion\n",
    "from ipywidgets import AppLayout, Layout, FloatSlider, IntText, VBox, HBox, Output\n",
    "from IPython.display import display\n",
    "\n",
    "from concurrent.futures import wait\n",
    "import time\n",
    "from time import sleep\n",
    "\n",
    "from IPython.display import display\n",
    "import plotly.graph_objects as go\n",
    "from plotly.subplots import make_subplots\n",
    "\n",
    "%matplotlib ipympl\n",
    "import matplotlib.pyplot as plt\n",
    "import numpy as np\n",
    "\n",
    "# import Qiskit library\n",
    "from qiskit import *\n",
    "from qiskit_aer import QasmSimulator"
   ]
  },
  {
   "cell_type": "code",
   "execution_count": 2,
   "metadata": {},
   "outputs": [],
   "source": [
    "def progress_bar(i, total):\n",
    "  sim_progress.value = i/total\n",
    "  percent_complete = round((i/total)*100)\n",
    "  sim_progress.description = '{} %'.format(percent_complete)\n",
    "\n",
    "  spbar_colors = ['DarkRed', 'FireBrick', 'Crimson', 'Red', 'OrangeRed', 'DarkOrange', 'Orange', 'Gold', 'Yellow', 'PaleGreen', 'SpringGreen']\n",
    "  n_colors = len(spbar_colors)\n",
    "\n",
    "  for nc in range(n_colors-2):\n",
    "    if (0.108*nc) <= sim_progress.value < (0.108*(nc+1)):\n",
    "      sim_progress.style = style={'bar_color': spbar_colors[nc]}\n",
    "\n",
    "  if 0.972 <= sim_progress.value < 0.99:\n",
    "    sim_progress.style = style={'bar_color': spbar_colors[n_colors-2]}\n",
    "\n",
    "  elif 0.99 <= sim_progress.value <= 1.0:\n",
    "      sim_progress.style = style={'bar_color': spbar_colors[n_colors-1]}\n",
    "\n",
    "sim_progress = widgets.FloatProgress(min=0, max=1, bar_style='', orientation='horizontal')\n",
    "sim_prgss_label = widgets.Label(value='Simulation Progress:')\n",
    "sim_prgs_bar = widgets.Box([sim_prgss_label, sim_progress])"
   ]
  },
  {
   "cell_type": "code",
   "execution_count": 3,
   "metadata": {},
   "outputs": [],
   "source": [
    "# Trotter propagation in transverse-field Ising model\n",
    "def get_spin_measurements(J, B, dt, total_time, percentage0_0, percentage1_0):\n",
    "    # J, B, and dt are physical parameters (atomic units)\n",
    "    count_00, count_01, count_10, count_11 = np.array([]), np.array([]), np.array([]), np.array([])\n",
    "    i = 0\n",
    "    while i <= total_time + dt:\n",
    "        progress_bar(i, total_time + dt) # updating progress bar\n",
    "\n",
    "        circ = QuantumCircuit(2, 2) # 2 particles, IC both at 0\n",
    "        percentage0_1 = 1-percentage0_0 # superposition on the 0th qubit \n",
    "        percentage1_1 = 1-percentage1_0 # superposition on the 1st qubit \n",
    "        if (percentage0_0 != 1): # prevents division by zero\n",
    "            circ.ry(np.arctan(percentage0_0/percentage0_1) * 2, 0)\n",
    "        if (percentage1_0 != 1):\n",
    "            circ.ry(np.arctan(percentage1_0/percentage1_1) * 2, 1)\n",
    "        #plot_bloch_multivector(Statevector(circ)) # to check the superposition makes sense\n",
    "\n",
    "        for t in np.linspace(0, i, int(i/dt)):\n",
    "            circ.rx(-2*dt*B, 0) # Transverse-field propagation of spin 0\n",
    "            circ.rx(-2*dt*B, 1) # Transverse-field propagation of spin 1\n",
    "            circ.cx(0, 1)       # Exchange-coupling time propagation (1)\n",
    "            circ.rz(-2*dt*J, 1) # (2)\n",
    "            circ.cx(0, 1)       # (3)\n",
    "        circ.measure(range(2), range(2)) # Measure both spins\n",
    "\n",
    "        backend = QasmSimulator()\n",
    "        circ_compiled = transpile(circ, backend)     # Transpile the quantum circuit to low-level QASM instructions\n",
    "        job_sim = backend.run(circ_compiled, shots=1024)     # Execute the circuit on the Qasm simulator, repeating 1024 times\n",
    "        result_sim = job_sim.result() # Grab the results from the job\n",
    "        counts = result_sim.get_counts(circ_compiled) # Get counts\n",
    "\n",
    "        if '00' in counts:  count_00 = np.append(count_00, counts['00'])\n",
    "        else:               count_00 = np.append(count_00, 0)\n",
    "\n",
    "        if '01' in counts:  count_01 = np.append(count_01, counts['01'])\n",
    "        else:               count_01 = np.append(count_01, 0)\n",
    "\n",
    "        if '10' in counts:  count_10 = np.append(count_10, counts['10'])\n",
    "        else:               count_10 = np.append(count_10, 0)\n",
    "\n",
    "        if '11' in counts:  count_11 = np.append(count_11, counts['11'])\n",
    "        else:               count_11 = np.append(count_11, 0)\n",
    "        i = i + dt\n",
    "    return count_00, count_01, count_10, count_11"
   ]
  },
  {
   "cell_type": "code",
   "execution_count": 4,
   "metadata": {},
   "outputs": [],
   "source": [
    "def simulate_TFIM(b):\n",
    "    sim_progress.value, sim_progress.description = 0, ''\n",
    "    J, B, dt, total_time, percentage0_0, percentage1_0 = J_slider.value, B_slider.value, time_step.value, sim_time.value, qubit0.value/100, qubit1.value/100\n",
    "    count_00, count_01, count_10, count_11 = get_spin_measurements(J, B, dt, total_time, percentage0_0, percentage1_0)\n",
    "    t = np.linspace(0, total_time, int(total_time/dt) + 1)\n",
    "\n",
    "    # Display bar graph \n",
    "    fig = go.FigureWidget()\n",
    "    bar = fig.add_bar(x=['Counts 00', 'Counts 01', 'Counts 10', 'Counts 11'], marker_color=['red', 'orange', 'green', 'blue'])\n",
    "    a, b, c, d = np.max(count_00), np.max(count_01), np.max(count_10), np.max(count_11)\n",
    "    fig.layout = dict(yaxis=dict(range=[0,np.max([a,b,c,d])+10], title='Counts'), \n",
    "                    height=300, width=500, showlegend=False, margin=dict(l=0, r=0, t=0, b=0))\n",
    "\n",
    "    # Counts vs. time \n",
    "    fig2 = go.FigureWidget(make_subplots(rows=4, cols=1, shared_yaxes=True, shared_xaxes=True))\n",
    "    fig2.add_trace(go.Scatter(x=t, y=count_00, mode='lines', name='Counts 00'), row=1, col=1)\n",
    "    fig2.add_trace(go.Scatter(x=t, y=count_01, mode='lines', name='Counts 01'), row=2, col=1)\n",
    "    fig2.add_trace(go.Scatter(x=t, y=count_10, mode='lines', name='Counts 10'), row=3, col=1)\n",
    "    fig2.add_trace(go.Scatter(x=t, y=count_11, mode='lines', name='Counts 11'), row=4, col=1)\n",
    "    fig2.add_trace(go.Scatter(x=[0], y=[count_00[0]], mode='markers', marker=dict(color='black', size=8), showlegend = False), row=1, col=1)\n",
    "    fig2.add_trace(go.Scatter(x=[0], y=[count_01[0]], mode='markers', marker=dict(color='black', size=8), showlegend = False), row=2, col=1)\n",
    "    fig2.add_trace(go.Scatter(x=[0], y=[count_10[0]], mode='markers', marker=dict(color='black', size=8), showlegend = False), row=3, col=1)\n",
    "    fig2.add_trace(go.Scatter(x=[0], y=[count_11[0]], mode='markers', marker=dict(color='black', size=8), showlegend = False), row=4, col=1)\n",
    "\n",
    "    fig2.update_layout(title_text=\"Counts vs. Time\", autosize=True, margin=dict(l=20, r=20, t=50, b=50),\n",
    "                        title_x=0.5,  # Set the title's horizontal position to the center\n",
    "                        title_xanchor='center')  # Center the title horizontally\n",
    "    fig2.update_xaxes(title_text=\"Time\", range=[0-dt, np.max(t)+dt], row=4, col=1)\n",
    "    fig2.update_yaxes(range=[-100, np.max([np.max(count_00), np.max(count_01), np.max(count_10), np.max(count_11)])+50])\n",
    "\n",
    "    @interact(t=(0, total_time, dt))\n",
    "    def update(t=0):\n",
    "        i = int(t/dt)\n",
    "        with fig.batch_update():\n",
    "            fig.data[0].y=[count_00[i], count_01[i], count_10[i], count_11[i]]\n",
    "        with fig2.batch_update():\n",
    "            fig2.data[4].x, fig2.data[5].x, fig2.data[6].x, fig2.data[7].x = [t], [t], [t], [t]\n",
    "            fig2.data[4].y, fig2.data[5].y, fig2.data[6].y, fig2.data[7].y = [count_00[i]], [count_01[i]], [count_10[i]], [count_11[i]]\n",
    "            \n",
    "    graph = widgets.VBox([fig])\n",
    "    graph2 = widgets.VBox([fig2])\n",
    "    graphs = widgets.HBox([graph, graph2])\n",
    "    display(graphs)"
   ]
  },
  {
   "cell_type": "code",
   "execution_count": 5,
   "metadata": {},
   "outputs": [],
   "source": [
    "def reset(b):\n",
    "    J_slider.value, B_slider.value, time_step.value, sim_time.value, qubit0.value, qubit1.value = 0,0,0.01,0,0,0\n",
    "    sim_progress.value, sim_progress.description = 0, ''\n",
    "    # figure_output.clear_output()"
   ]
  },
  {
   "cell_type": "code",
   "execution_count": null,
   "metadata": {},
   "outputs": [
    {
     "data": {
      "application/vnd.jupyter.widget-view+json": {
       "model_id": "ac8a95917871447da4e9682f14a8e44a",
       "version_major": 2,
       "version_minor": 0
      },
      "text/plain": [
       "VBox(children=(VBox(children=(Label(value='Choose % in 0 superposition of qubits 0 and 1:'), VBox(children=(In…"
      ]
     },
     "metadata": {},
     "output_type": "display_data"
    },
    {
     "data": {
      "text/plain": [
       "'  \\nwith figure_output:\\n    display(counts_figures)\\n  figure_output.clear_output(wait=True)\\n'"
      ]
     },
     "execution_count": 6,
     "metadata": {},
     "output_type": "execute_result"
    },
    {
     "data": {
      "application/vnd.jupyter.widget-view+json": {
       "model_id": "b6a133e731b940c3ae90c60730d161f1",
       "version_major": 2,
       "version_minor": 0
      },
      "text/plain": [
       "interactive(children=(FloatSlider(value=0.0, description='t', max=0.8, step=0.01), Output()), _dom_classes=('w…"
      ]
     },
     "metadata": {},
     "output_type": "display_data"
    },
    {
     "data": {
      "application/vnd.jupyter.widget-view+json": {
       "model_id": "a7e5ac048a424fb7901eaa9454f43079",
       "version_major": 2,
       "version_minor": 0
      },
      "text/plain": [
       "HBox(children=(VBox(children=(FigureWidget({\n",
       "    'data': [{'marker': {'color': ['red', 'orange', 'green', 'blu…"
      ]
     },
     "metadata": {},
     "output_type": "display_data"
    },
    {
     "data": {
      "application/vnd.jupyter.widget-view+json": {
       "model_id": "2877b46c2b794b748c17af257d7a3f75",
       "version_major": 2,
       "version_minor": 0
      },
      "text/plain": [
       "interactive(children=(FloatSlider(value=0.0, description='t', max=0.8, step=0.01), Output()), _dom_classes=('w…"
      ]
     },
     "metadata": {},
     "output_type": "display_data"
    },
    {
     "data": {
      "application/vnd.jupyter.widget-view+json": {
       "model_id": "321b7fe4f90a49a68b88cb248e7284bd",
       "version_major": 2,
       "version_minor": 0
      },
      "text/plain": [
       "HBox(children=(VBox(children=(FigureWidget({\n",
       "    'data': [{'marker': {'color': ['red', 'orange', 'green', 'blu…"
      ]
     },
     "metadata": {},
     "output_type": "display_data"
    }
   ],
   "source": [
    "slider_layout = widgets.Layout(width='400px')\n",
    "style = {'description_width': 'initial', 'width': 'auto'}\n",
    "\n",
    "qubit0 = widgets.IntSlider(description='% of Qubit 0:', min=0, max=100, disabled=False, layout=slider_layout)\n",
    "qubit1 = widgets.IntSlider(description='% of Qubit 1:', min=0, max=100, disabled=False, layout=slider_layout)\n",
    "superposition = widgets.VBox([qubit0, qubit1])\n",
    "superposition_label = widgets.Label(value='Choose % in 0 superposition of qubits 0 and 1:')\n",
    "\n",
    "J_slider = widgets.FloatSlider(description='Coupling strength, J:', min=0, max=20, style=style, layout=slider_layout)\n",
    "B_slider = widgets.FloatSlider(description='Transverse magnetic field strength, B:', min=0, max=20, style=style, layout=slider_layout)\n",
    "time_step = widgets.FloatSlider(description='Time step (sec), dt:', value=0.000, min=0.01, max=0.1, step=0.001, disabled=False, style=style, layout=slider_layout)\n",
    "sim_time = widgets.FloatSlider(description='Simulation time (sec): t', min=0, max=6, style=style, layout=slider_layout)\n",
    "\n",
    "reset_bttn = widgets.Button(description='Reset', disabled=False, button_style='', tooltip='Click me')\n",
    "simulate_bttn = widgets.Button(description='Simulate', disabled=False, button_style='', tooltip='Click me', icon='check')\n",
    "buttons = widgets.HBox([simulate_bttn, reset_bttn])\n",
    "parameters = widgets.VBox([superposition_label, superposition, J_slider, B_slider, time_step, sim_time, buttons, sim_prgs_bar], layout={'width': '800px'})\n",
    "\n",
    "output = widgets.Output()\n",
    "simulate_bttn.on_click(simulate_TFIM)\n",
    "reset_bttn.on_click(reset)\n",
    "game_page = widgets.VBox([parameters, output])\n",
    "display(game_page)\n",
    "\n",
    "'''  \n",
    "with figure_output:\n",
    "    display(counts_figures)\n",
    "  figure_output.clear_output(wait=True)\n",
    "'''"
   ]
  },
  {
   "cell_type": "markdown",
   "metadata": {},
   "source": [
    "Things to Finish:\n",
    "- Make sure the graphs clear\n",
    "- Write up and make it look nice"
   ]
  },
  {
   "cell_type": "code",
   "execution_count": 7,
   "metadata": {},
   "outputs": [],
   "source": [
    "from IPython.display import display, Math, Latex"
   ]
  },
  {
   "cell_type": "code",
   "execution_count": 8,
   "metadata": {},
   "outputs": [
    {
     "data": {
      "text/latex": [
       "$\\displaystyle H=-J\\displaystyle\\sum_{i,j} s_{i}s_{j}-B\\sum_{i}^{ }s_{i}$"
      ],
      "text/plain": [
       "<IPython.core.display.Math object>"
      ]
     },
     "metadata": {},
     "output_type": "display_data"
    },
    {
     "data": {
      "text/latex": [
       "$\\displaystyle H=-J\\displaystyle\\sum_{i,j}^{ }s_{i}^{z}s_{j}^{z}-B\\sum_{i}^{ }s_{i}^{x} $"
      ],
      "text/plain": [
       "<IPython.core.display.Math object>"
      ]
     },
     "metadata": {},
     "output_type": "display_data"
    }
   ],
   "source": [
    "display(Math(r'H=-J\\displaystyle\\sum_{i,j} s_{i}s_{j}-B\\sum_{i}^{ }s_{i}'))\n",
    "display(Math(r'H=-J\\displaystyle\\sum_{i,j}^{ }s_{i}^{z}s_{j}^{z}-B\\sum_{i}^{ }s_{i}^{x} '))"
   ]
  },
  {
   "cell_type": "code",
   "execution_count": 9,
   "metadata": {},
   "outputs": [],
   "source": [
    "title = widgets.HTML(value=f\"\"\"<h1 style=\"text-align: center\"> Ising Model </h1>\"\"\")\n",
    "\n",
    "label_layout = widgets.Layout(width='600px', height='flex', align_items='flex-end')\n",
    "text = '''Many quantum mechanical systems can be described by a few relevant “states”. For example, an atom in its ground \n",
    "        state (“state 1”) can be driven by laser light to an excited state (“state 2”). In this case, all other states of the atom can be neglected. '''\n",
    "game_description_text = f\"\"\" \n",
    "<div style=\"text-align: justify;\">\n",
    "    {text}\n",
    "</div> \"\"\"\n",
    "\n",
    "game_description = widgets.HTML(value=game_description_text, layout=label_layout)\n",
    "transition_section = widgets.HTML(value=f\"\"\"<hr>\"\"\")\n",
    "info_pg = widgets.VBox([title, transition_section, game_description, transition_section])\n",
    "info_pg.align = \"bottom\""
   ]
  },
  {
   "cell_type": "code",
   "execution_count": 10,
   "metadata": {},
   "outputs": [
    {
     "data": {
      "application/vnd.jupyter.widget-view+json": {
       "model_id": "dc76f583e24d4bd4bdaac3a4e762a0ef",
       "version_major": 2,
       "version_minor": 0
      },
      "text/plain": [
       "VBox(children=(VBox(children=(HTML(value='<h1 style=\"text-align: center\"> Ising Model </h1>'), HTML(value='<hr…"
      ]
     },
     "metadata": {},
     "output_type": "display_data"
    }
   ],
   "source": [
    "full_page = widgets.VBox([info_pg, game_page])\n",
    "display(full_page)"
   ]
  }
 ],
 "metadata": {
  "kernelspec": {
   "display_name": "Python 3",
   "language": "python",
   "name": "python3"
  },
  "language_info": {
   "codemirror_mode": {
    "name": "ipython",
    "version": 3
   },
   "file_extension": ".py",
   "mimetype": "text/x-python",
   "name": "python",
   "nbconvert_exporter": "python",
   "pygments_lexer": "ipython3",
   "version": "3.10.11"
  }
 },
 "nbformat": 4,
 "nbformat_minor": 2
}
